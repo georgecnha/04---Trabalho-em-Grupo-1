{
 "cells": [
  {
   "cell_type": "code",
   "execution_count": 2,
   "metadata": {},
   "outputs": [],
   "source": [
    "from math import exp\n",
    "maxIter=10\n",
    "a=1\n",
    "eps=0.001\n",
    "d0=0.5\n",
    "def f(xi):\n",
    "    return ((exp(xi)) - 4*pow(xi,2))  #para retornar a funçao ao ser chamada\n",
    "def df(d):\n",
    "    return (a*exp(xi) - 8*xi)\n",
    "#A[b]\n",
    "\n",
    "# Função de atualização do d\n",
    "def d1(xi):\n",
    "    y = xi - ((f(xi)) / df(xi))\n",
    "    return y\n",
    "\n",
    "\n",
    "def nr(xi):  # metodo newtom raphson\n",
    "    \"\"\"Executa o método de Newton-Raphson para achar o zero de f\n",
    "       a partir da derivada de df(dx), aproximação inicial x0\n",
    "       e tolerância eps\"\"\"\n",
    "\n",
    "    d0= 0.5000 # Tira quando menu funcionar\n",
    "\n",
    "    if abs(f(d0)) <eps:\n",
    "        d=d0     \n",
    "#Inicie as iterações k \n",
    "    k = 1\n",
    "    else:\n",
    "        while k <= maxIter:  # k para se for > n (num de interaçoes maximas)\n",
    "            d = d1(d0)  \n",
    "            if df(d0) == 0:\n",
    "                print(\"ERRO! Derivada de d0 = 0, isto causa uma divisão por zero!\")\n",
    "            \n",
    "            elif abs(f(d))<eps and abs(d- d0)< eps:\n",
    "                d=d1(d0)\n",
    "                Er=(abs(d0 - dz) / (d0)) \n",
    "                d0=d\n",
    "                k=k+1\n",
    "        print(\"Número máximo de interações atingido\")\n",
    "\n",
    "    print('a{}={:.4f}|d={:.4f}| Er{:.4f}| '.format(b,a,d,Er))\n",
    "\n",
    "    "
   ]
  },
  {
   "cell_type": "code",
   "execution_count": 11,
   "metadata": {},
   "outputs": [
    {
     "ename": "SyntaxError",
     "evalue": "invalid syntax (<ipython-input-11-9c85ba7b1a07>, line 24)",
     "output_type": "error",
     "traceback": [
      "\u001b[0;36m  File \u001b[0;32m\"<ipython-input-11-9c85ba7b1a07>\"\u001b[0;36m, line \u001b[0;32m24\u001b[0m\n\u001b[0;31m    elif abs(f(d))<eps and abs(d-d0)< eps:\u001b[0m\n\u001b[0m       ^\u001b[0m\n\u001b[0;31mSyntaxError\u001b[0m\u001b[0;31m:\u001b[0m invalid syntax\n"
     ]
    }
   ],
   "source": [
    "from math import exp\n",
    "maxIter=10\n",
    "a=1\n",
    "eps=0.001\n",
    "d0=0.5\n",
    "\n",
    "def f(xi):\n",
    "    return ((exp(xi)) - 4*pow(xi,2))  #para retornar a funçao ao ser chamada\n",
    "def df(xi):\n",
    "    return (a*exp(xi) - 8*xi)\n",
    "#A[b]\n",
    "\n",
    "a0= 0.5000 # Tira quando menu funcionar\n",
    "k=0\n",
    "\n",
    "if abs(f(d0)) <eps:\n",
    "        d=d0     \n",
    "if df(d0)==0:\n",
    "    print(\"ERRO! Derivada de d0 = 0, isto causa uma divisão por zero!\") \n",
    "#Inicie as iterações k \n",
    "else:\n",
    "    k = 1\n",
    "    while k<=maxIter:\n",
    "        d=d0-(f(d0)/ df(d0))\n",
    "        elif abs(f(d))<eps and abs(d-d0)< eps:\n",
    "            d=d0-(f(d0)/ df(d0))\n",
    "            d0=d\n",
    "            Er=(abs(d0-d)/(d0)) \n",
    "            k=k+1\n",
    "    if k==maxIter:\n",
    "        print(\"Número máximo de interações atingido\")\n",
    "\n",
    "print('a{}={:.4f}|d={:.4f}| Er{:.4f}| '.format(b,a,d,Er))\n"
   ]
  },
  {
   "cell_type": "code",
   "execution_count": null,
   "metadata": {},
   "outputs": [],
   "source": []
  }
 ],
 "metadata": {
  "kernelspec": {
   "display_name": "Python 3.6",
   "language": "python",
   "name": "python36"
  },
  "language_info": {
   "codemirror_mode": {
    "name": "ipython",
    "version": 3
   },
   "file_extension": ".py",
   "mimetype": "text/x-python",
   "name": "python",
   "nbconvert_exporter": "python",
   "pygments_lexer": "ipython3",
   "version": "3.6.3"
  }
 },
 "nbformat": 4,
 "nbformat_minor": 2
}
