{
 "cells": [
  {
   "cell_type": "code",
   "execution_count": null,
   "metadata": {
    "collapsed": true
   },
   "outputs": [],
   "source": [
    "#include <iostream>\n",
    "\n",
    "using namespace std;\n",
    "\n",
    "int main(void)\n",
    "{\n",
    "  cout << \" =========== Programa Disciplina Grupo II  ==============\\n\\n\";\n",
    "  cout << \"Aluno: George\\n\"; \n",
    "  cout << \"       Iago\\n\";\n",
    "  cout << \"\\n\\n Data: 24/04/2018\\n\\n\";\n",
    "\n",
    "  bool Onmenu = true;\n",
    "  int opcao;\n",
    "\n",
    "  while (Onmenu)\n",
    "  {\n",
    "    cout << \"Escolha uma opção:\\n\";\n",
    "\n",
    "    // Opções do menu:\n",
    "    cout << \"1) Biseção.\\n\";\n",
    "    cout << \"2) Posicao falso.\\n\";\n",
    "    cout << \"3) Ponto fixo.\\n\";\n",
    "    cout << \"10) Sair.\\n\";\n",
    "    \n",
    "    // Le opção.\n",
    "    cin >> opcao;\n",
    "\n",
    "    // Executa opcao.\n",
    "    if (opcao == 1)\n",
    "      cout << \"escolheu opcao 1\\n\";\n",
    "    else if (opcao == 2)\n",
    "      cout << \"escolheu opcao 2\\n\";\n",
    "          else if (opcao == 3)\n",
    "            cout << \"escolheu opcao 3\\n\";\n",
    "               else if (opcao == 10)\n",
    "               {\n",
    "                 cout << \"escolheu sair\\n\";\n",
    "                 Onmenu = false;\n",
    "               }\n",
    "  }\n",
    "\n",
    "  return 0;\n",
    "}// \n"
   ]
  }
 ],
 "metadata": {
  "kernelspec": {
   "display_name": "Python 3.6",
   "language": "python",
   "name": "python36"
  },
  "language_info": {
   "codemirror_mode": {
    "name": "ipython",
    "version": 3
   },
   "file_extension": ".py",
   "mimetype": "text/x-python",
   "name": "python",
   "nbconvert_exporter": "python",
   "pygments_lexer": "ipython3",
   "version": "3.6.3"
  }
 },
 "nbformat": 4,
 "nbformat_minor": 2
}
