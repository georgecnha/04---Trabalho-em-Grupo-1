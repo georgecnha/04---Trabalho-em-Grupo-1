{
 "cells": [
  {
   "cell_type": "code",
   "execution_count": 59,
   "metadata": {},
   "outputs": [
    {
     "name": "stdout",
     "output_type": "stream",
     "text": [
      "| a1=1.0000 | d0 = 0.5000 | d1= 0.7144 | d=0.7148 | Ea=0.0004 | Er=0.0000 | k=4 | f(d)=0.0000 |\n"
     ]
    }
   ],
   "source": [
    "from math import exp\n",
    "d0=0.5\n",
    "d1=1\n",
    "eps=10**(-4)\n",
    "a=1 \n",
    "b=1\n",
    "maxIter=30\n",
    "def secante(a, d0, d1):\n",
    "    def f(xi):\n",
    "        y = a*(exp(xi)) -4*(xi**2)\n",
    "        return y\n",
    "    d11=d1 #d00 e d1 são variáveis auxiliares que guardam os valores de d0 e d1\n",
    "    d00=d0\n",
    "    k=0\n",
    "    if abs(f(d0))<eps:\n",
    "        d=d0\n",
    "    elif abs(f(d1))<eps and abs(d1-d0)<eps:\n",
    "        d=d1\n",
    "    else:\n",
    "        k=1\n",
    "        d=d1-((f(d1))*(d1-d0))/((f(d1))-(f(d0)))\n",
    "        Er=abs((d1-d0)/d0)\n",
    "        while abs(f(d))>eps and abs(d-d0)>=eps and k<maxIter:\n",
    "            d1=d\n",
    "            d=d1-((f(d1)*(d1-d0))/(f(d1)-f(d0)))\n",
    "            d0=d1\n",
    "            k=k+1\n",
    "            Er=abs((d1-d0)/d0)\n",
    "    print('| a{}={:.4f} | d0 = {:.4f} | d1= {:.4f} | d={:.4f} | Ea={:.4f} | Er={:.4f} | k={} | f(d)={:.4f} |'.format(b, a, d00, d1 , d, abs(d - d0), Er, k, f(d)))\n",
    "secante(a,d0, d1)   "
   ]
  },
  {
   "cell_type": "code",
   "execution_count": null,
   "metadata": {},
   "outputs": [],
   "source": []
  },
  {
   "cell_type": "code",
   "execution_count": null,
   "metadata": {},
   "outputs": [],
   "source": []
  },
  {
   "cell_type": "code",
   "execution_count": null,
   "metadata": {},
   "outputs": [],
   "source": []
  },
  {
   "cell_type": "code",
   "execution_count": null,
   "metadata": {},
   "outputs": [],
   "source": []
  }
 ],
 "metadata": {
  "kernelspec": {
   "display_name": "Python 3.6",
   "language": "python",
   "name": "python36"
  },
  "language_info": {
   "codemirror_mode": {
    "name": "ipython",
    "version": 3
   },
   "file_extension": ".py",
   "mimetype": "text/x-python",
   "name": "python",
   "nbconvert_exporter": "python",
   "pygments_lexer": "ipython3",
   "version": "3.6.3"
  }
 },
 "nbformat": 4,
 "nbformat_minor": 2
}
