{
 "cells": [
  {
   "cell_type": "code",
   "execution_count": 5,
   "metadata": {},
   "outputs": [
    {
     "name": "stdout",
     "output_type": "stream",
     "text": [
      "| a1= 1.0000| d= 0.7759 | Er= 0.5518 | k= 2 |\n",
      "| a1= 1.0000| d= 0.7759 | Er= 0.5518 | k= 2 |\n",
      "f(d)=-0.2355\n"
     ]
    }
   ],
   "source": [
    "from math import exp\n",
    "maxIter=30\n",
    "a=1\n",
    "eps=10**(-4)\n",
    "d0=0.5\n",
    "b=1\n",
    "def f(xi):\n",
    "    return (a*(exp(xi)) - 4*(xi**2))  #para retornar a funçao ao ser chamada\n",
    "def df(xi):\n",
    "    return ((a)*exp(xi)- 8*xi)\n",
    "#A[b]\n",
    "\n",
    "a0= 0.5000 # Tira quando menu funcionar\n",
    "k=0\n",
    "\n",
    "if abs(f(d0))<eps:\n",
    "        d=d0     \n",
    "if df(d0)==0:\n",
    "    print(\"ERRO! Derivada de d0 = 0, isto causa uma divisão por zero!\") \n",
    "#Inicie as iterações k \n",
    "else:\n",
    "    k=1\n",
    "    d=d0-(f(d0)/ df(d0))\n",
    "    while abs(f(d))>eps and abs(d-d0)>eps and k<=maxIter:\n",
    "        d=d0-(f(d0)/df(d0))\n",
    "        Er=(abs(d0-d)/(d0)) \n",
    "        k=k+1\n",
    "        print('| a{}= {:.4f}| d= {:.4f} | Er= {:.4f} | k= {} |'.format(b,a,d,Er, k))\n",
    "if k==maxIter:\n",
    "    print('Número máximo de iterações atingido.')\n",
    "    \n",
    "print('| a{}= {:.4f}| d= {:.4f} | Er= {:.4f} | k= {} |'.format(b,a,d,Er, k))\n",
    "print('f(d)={:.4f}'.format(f(d)))"
   ]
  },
  {
   "cell_type": "code",
   "execution_count": null,
   "metadata": {},
   "outputs": [],
   "source": []
  },
  {
   "cell_type": "code",
   "execution_count": null,
   "metadata": {},
   "outputs": [],
   "source": []
  }
 ],
 "metadata": {
  "kernelspec": {
   "display_name": "Python 3.6",
   "language": "python",
   "name": "python36"
  },
  "language_info": {
   "codemirror_mode": {
    "name": "ipython",
    "version": 3
   },
   "file_extension": ".py",
   "mimetype": "text/x-python",
   "name": "python",
   "nbconvert_exporter": "python",
   "pygments_lexer": "ipython3",
   "version": "3.6.3"
  }
 },
 "nbformat": 4,
 "nbformat_minor": 2
}
