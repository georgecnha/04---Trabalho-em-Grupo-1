{
 "cells": [
  {
   "cell_type": "code",
   "execution_count": 1,
   "metadata": {},
   "outputs": [
    {
     "name": "stdout",
     "output_type": "stream",
     "text": [
      "| a1=1.0000 | d0=0.5000 | d=0.7148 | Ea=0.0027 | Er=0.0038 | k=3 | f(d)=-0.0000 |\n"
     ]
    }
   ],
   "source": [
    "from math import exp\n",
    "maxIter=30\n",
    "a=1\n",
    "b=1\n",
    "eps=10**(-4)\n",
    "d0=0.5\n",
    "b=1\n",
    "\n",
    "def nr(a, d0):\n",
    "    def f(xi):\n",
    "        return (a*(exp(xi)) - 4*(xi**2))  #para retornar a funçao ao ser chamada\n",
    "    def df(xi):\n",
    "        return ((a)*exp(xi)- 8*xi)\n",
    "    k=0\n",
    "\n",
    "    if abs(f(d0))<eps:\n",
    "        d=d0     \n",
    "    if df(d0)==0:\n",
    "        print(\"ERRO! Derivada de d0 = 0, isto causa uma divisão por zero!\") \n",
    "#Inicie as iterações k \n",
    "    else:\n",
    "        k=1\n",
    "        d00=d0\n",
    "        d=d0-(f(d0)/ df(d0))\n",
    "        while abs(f(d))>eps and abs(d-d0)>eps and k<=maxIter:\n",
    "            d0=d\n",
    "            d=d0-(f(d0)/df(d0))\n",
    "            Er=(abs(d0-d)/(d0)) \n",
    "            k=k+1\n",
    "    if k==maxIter:\n",
    "        print('Número máximo de iterações atingido.')\n",
    "    \n",
    "    print('| a{}={:.4f} | d0={:.4f} | d={:.4f} | Ea={:.4f} | Er={:.4f} | k={} | f(d)={:.4f} |'.format(b, a, d00, d, abs(d - d0), Er, k, f(d)))\n",
    "    \n",
    "nr(a, d0)"
   ]
  },
  {
   "cell_type": "code",
   "execution_count": null,
   "metadata": {},
   "outputs": [],
   "source": []
  },
  {
   "cell_type": "code",
   "execution_count": null,
   "metadata": {},
   "outputs": [],
   "source": []
  }
 ],
 "metadata": {
  "kernelspec": {
   "display_name": "Python 3.6",
   "language": "python",
   "name": "python36"
  },
  "language_info": {
   "codemirror_mode": {
    "name": "ipython",
    "version": 3
   },
   "file_extension": ".py",
   "mimetype": "text/x-python",
   "name": "python",
   "nbconvert_exporter": "python",
   "pygments_lexer": "ipython3",
   "version": "3.6.3"
  }
 },
 "nbformat": 4,
 "nbformat_minor": 2
}
