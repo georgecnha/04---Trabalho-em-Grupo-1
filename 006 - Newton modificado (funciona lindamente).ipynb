{
 "cells": [
  {
   "cell_type": "code",
   "execution_count": null,
   "metadata": {},
   "outputs": [],
   "source": []
  },
  {
   "cell_type": "code",
   "execution_count": 7,
   "metadata": {},
   "outputs": [
    {
     "name": "stdout",
     "output_type": "stream",
     "text": [
      "| a1=1.0000 | d=-0.4078 | Ea=0.0000 | Er=0.0001 | k=13 | f(d)=0.0001 |\n"
     ]
    }
   ],
   "source": [
    "a=1\n",
    "b=1\n",
    "d0=0.5\n",
    "eps=10**(-4)\n",
    "maxIter=50\n",
    "Er=0 \n",
    "k=0\n",
    "d00=d0\n",
    "from math import exp\n",
    "#============================ Método de Newton Modificado ==============================\n",
    "\n",
    "def nm(a,d0):\n",
    "    def f(xi):\n",
    "        y = a*(exp(xi)) - 4*(xi ** 2)\n",
    "        return y\n",
    "\n",
    "    def df(xi):\n",
    "        y = a*(exp(xi)) + 8*(xi)\n",
    "        return y\n",
    "\n",
    "\n",
    "    if abs(f(d0))<eps:\n",
    "        d = d0\n",
    "    elif df(d0)<0:\n",
    "        print('VALOR INVÁLIDO! Causa uma divisão por zero!')\n",
    "    else:\n",
    "        d00=d0\n",
    "        d = d0 - (f(d0) / df(d00))\n",
    "        k = 1\n",
    "        while abs(f(d))>eps and abs(d - d0)> eps and k<maxIter:\n",
    "            d0 = d\n",
    "            d = d - (f(d) / df(d00))\n",
    "            Er = abs((d - d0) / d0)\n",
    "            k = k + 1\n",
    "        if k == maxIter:\n",
    "            print('Número máximo de iterações atingido!')\n",
    "    print('| a{}={:.4f} | d0= {:.4f} | d={:.4f} | Ea={:.4f} | Er={:.4f} | k={} | f(d)={:.4f} |'.format(b, a, d00, d, abs(d - d0), Er, k, f(d)))\n",
    "    \n",
    "\n",
    "    \n",
    "nm(a, d0)"
   ]
  },
  {
   "cell_type": "code",
   "execution_count": null,
   "metadata": {},
   "outputs": [],
   "source": []
  },
  {
   "cell_type": "code",
   "execution_count": null,
   "metadata": {},
   "outputs": [],
   "source": []
  }
 ],
 "metadata": {
  "kernelspec": {
   "display_name": "Python 3.6",
   "language": "python",
   "name": "python36"
  },
  "language_info": {
   "codemirror_mode": {
    "name": "ipython",
    "version": 3
   },
   "file_extension": ".py",
   "mimetype": "text/x-python",
   "name": "python",
   "nbconvert_exporter": "python",
   "pygments_lexer": "ipython3",
   "version": "3.6.3"
  }
 },
 "nbformat": 4,
 "nbformat_minor": 2
}
