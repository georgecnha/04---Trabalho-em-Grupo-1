{
 "cells": [
  {
   "cell_type": "code",
   "execution_count": 9,
   "metadata": {},
   "outputs": [
    {
     "name": "stdout",
     "output_type": "stream",
     "text": [
      "Digite d1: 1\n",
      "|a =1.0000|d = 0.8333| Er = 0.1667|\n"
     ]
    }
   ],
   "source": [
    "\n",
    "\n",
    "\n",
    "# Método da Secante\n",
    "    #a=A[b]\n",
    "\n",
    "def sec(a,d0,d1)\n",
    "\n",
    "# Função do Problema\n",
    "    def poli(xi):\n",
    "        y = a*exp(xi) + 4*xi**2\n",
    "        return (y)\n",
    "\n",
    "\n",
    "# secante\n",
    "    def sec(xi, xh):\n",
    "        y = (poli(xi)- (poli(xh))/(xi - xh))\n",
    "        return (y)\n",
    "\n",
    "# Definição de variáveis\n",
    "    er= eps\n",
    "    k=0\n",
    "    Er=0\n",
    "\n",
    "    if (abs(poli(d0)))<er:\n",
    "        d=d0\n",
    "    elif abs(poli(d1))<er:\n",
    "        k=1\n",
    "    else:\n",
    "        d=d1-((poli(d1))/sec(d1, d0))\n",
    "        k=2\n",
    "        while (poli(d))>er and (abs(d1 - d))> er and k<10:\n",
    "            d0 = d\n",
    "            d = d1 - ((poli(d1)) / sec(d1, d0))\n",
    "            k = k + 1\n",
    "            Er=(abs(d1-d))/d1\n",
    "        \n",
    "    print ('|a ={:.4f}|d = {:.4f}| Er = {:.4f}|'.format(a,d,Er))\n",
    "\n"
   ]
  },
  {
   "cell_type": "code",
   "execution_count": 19,
   "metadata": {},
   "outputs": [
    {
     "name": "stdout",
     "output_type": "stream",
     "text": [
      "|a =1.0000|d = 6.0802| Er = 11.1603|\n",
      "f(d)=584.968209004593; k=2; Ea=0.0000, \n"
     ]
    }
   ],
   "source": [
    "from math import exp\n",
    "d0=0.5\n",
    "d=0.9\n",
    "a=1\n",
    "# Função do Problema\n",
    "def poli(xi):\n",
    "    y = a*exp(xi) + 4*xi**2\n",
    "    return (y)\n",
    "\n",
    "\n",
    "# secante\n",
    "def sec(xi, xh):\n",
    "    y = (poli(xi)- (poli(xh))/(xi - xh))\n",
    "    return (y)\n",
    "\n",
    "# Definição de variáveis\n",
    "er= 0.0001\n",
    "k=0\n",
    "Er=0\n",
    "\n",
    "if (abs(poli(d0)))<er:\n",
    "    d=d0\n",
    "elif abs(poli(d))<er:\n",
    "    d=d\n",
    "else:\n",
    "    d=d-((poli(d))/sec(d, d0))\n",
    "    k=1\n",
    "    while (poli(d))>er and (abs(d0 - d))> er  and k<30:\n",
    "        d = d - ((poli(d)) / sec(d, d0))\n",
    "        k = k + 1\n",
    "        Er=(abs(d0-d))/d0\n",
    "        d0 = d\n",
    "        \n",
    "print ('|a ={:.4f}|d = {:.4f}| Er = {:.4f}|'.format(a,d,Er))\n",
    "print ('f(d)={}; k={}; Ea={:.4f}, '.format(poli(d), k, abs(d-d0)))\n"
   ]
  },
  {
   "cell_type": "code",
   "execution_count": null,
   "metadata": {},
   "outputs": [],
   "source": []
  }
 ],
 "metadata": {
  "kernelspec": {
   "display_name": "Python 3.6",
   "language": "python",
   "name": "python36"
  },
  "language_info": {
   "codemirror_mode": {
    "name": "ipython",
    "version": 3
   },
   "file_extension": ".py",
   "mimetype": "text/x-python",
   "name": "python",
   "nbconvert_exporter": "python",
   "pygments_lexer": "ipython3",
   "version": "3.6.3"
  }
 },
 "nbformat": 4,
 "nbformat_minor": 2
}
