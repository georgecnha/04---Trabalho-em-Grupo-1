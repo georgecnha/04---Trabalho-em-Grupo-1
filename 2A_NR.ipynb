{
 "cells": [
  {
   "cell_type": "code",
   "execution_count": null,
   "metadata": {
    "collapsed": true
   },
   "outputs": [],
   "source": [
    "#f(d) = a*e^d – 4*d² pelo método de Newton-Raphson\n",
    "#Dados de Entrada: n (número de valores de a), d (para cada n) e ε (precisão)\n",
    "#Dados de saída: quadros resposta (com d, E R para cada a e método) e comparativo.\n",
    "from math import exp\n",
    "def f(xi):\n",
    "    y=a*exp(xi) – 4*(xi^2)\n",
    "    return(y)\n",
    "\n",
    "def newton(f, flin, a0, epsilon, iterMax=50):\n",
    "    f= \n",
    "    a0= float(input('Digite a0: '))\n",
    "    "
   ]
  }
 ],
 "metadata": {
  "kernelspec": {
   "display_name": "Python 3.6",
   "language": "python",
   "name": "python36"
  },
  "language_info": {
   "codemirror_mode": {
    "name": "ipython",
    "version": 3
   },
   "file_extension": ".py",
   "mimetype": "text/x-python",
   "name": "python",
   "nbconvert_exporter": "python",
   "pygments_lexer": "ipython3",
   "version": "3.6.3"
  }
 },
 "nbformat": 4,
 "nbformat_minor": 2
}
